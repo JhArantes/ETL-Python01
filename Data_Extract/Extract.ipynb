{
 "cells": [
  {
   "cell_type": "code",
   "execution_count": 10,
   "id": "6cdda88e",
   "metadata": {},
   "outputs": [],
   "source": [
    "import os\n",
    "os.environ['KAGGLE_CONFIG_DIR'] = r'C:\\Users\\joaoh\\.kaggle'\n"
   ]
  },
  {
   "cell_type": "code",
   "execution_count": 11,
   "id": "6f7e9852",
   "metadata": {},
   "outputs": [
    {
     "name": "stdout",
     "output_type": "stream",
     "text": [
      "Dataset URL: https://www.kaggle.com/datasets/datahackers/pesquisa-data-hackers-2019\n",
      "License(s): CC-BY-NC-SA-4.0\n"
     ]
    }
   ],
   "source": [
    "import os\n",
    "\n",
    "# Define o diretório de configuração do Kaggle\n",
    "os.environ['KAGGLE_CONFIG_DIR'] = r'C:\\Users\\joaoh\\.kaggle'\n",
    "\n",
    "# Cria uma pasta local para armazenar o dataset\n",
    "download_path = r'C:\\Users\\joaoh\\Downloads\\datahackers'\n",
    "os.makedirs(download_path, exist_ok=True)\n",
    "\n",
    "# Baixa o dataset\n",
    "!kaggle datasets download -d datahackers/pesquisa-data-hackers-2019 -p \"{download_path}\" --unzip\n"
   ]
  },
  {
   "cell_type": "code",
   "execution_count": 12,
   "id": "7bbc95d6",
   "metadata": {},
   "outputs": [
    {
     "name": "stdout",
     "output_type": "stream",
     "text": [
      "                       ('P0', 'id')  ('P1', 'age') ('P2', 'gender')  \\\n",
      "0  v9otv8j9wdvjrv9otvwnn9owhzq54ktv           37.0        Masculino   \n",
      "1  875ul998t0hqcv0871uptwf3oswcfv35           24.0         Feminino   \n",
      "2  puscuk079vw1pusbb900pzw2xvpxtgdk           26.0        Masculino   \n",
      "3  rmel8ewqpbffp2mnfbzermel8eqincov           21.0        Masculino   \n",
      "4  pj9mgud4d6mdct1l7vq0pj9mgu78h6ju           27.0        Masculino   \n",
      "\n",
      "   ('P3', 'living_in_brasil') ('P5', 'living_state')  \\\n",
      "0                           1      Minas Gerais (MG)   \n",
      "1                           1         São Paulo (SP)   \n",
      "2                           1         São Paulo (SP)   \n",
      "3                           1         São Paulo (SP)   \n",
      "4                           1                    NaN   \n",
      "\n",
      "   ('P6', 'born_or_graduated') ('P8', 'degreee_level')  \\\n",
      "0                          1.0  Estudante de Graduação   \n",
      "1                          1.0  Estudante de Graduação   \n",
      "2                          1.0   Graduação/Bacharelado   \n",
      "3                          0.0  Estudante de Graduação   \n",
      "4                          1.0   Graduação/Bacharelado   \n",
      "\n",
      "  ('P10', 'job_situation') ('P12', 'workers_number')  ('P13', 'manager')  ...  \\\n",
      "0          Empregado (CTL)                  de 1 a 5                 0.0  ...   \n",
      "1          Empregado (CTL)             Acima de 3000                 0.0  ...   \n",
      "2          Empregado (CTL)             Acima de 3000                 0.0  ...   \n",
      "3               Estagiário                de 11 a 50                 0.0  ...   \n",
      "4               Freelancer                 de 6 a 10                 1.0  ...   \n",
      "\n",
      "  ('P34', 'other') ('P35', 'data_science_plataforms_preference')  \\\n",
      "0                0                       Nunca fiz cursos online   \n",
      "1                1                                           NaN   \n",
      "2                0                                         Udemy   \n",
      "3                0                                         Alura   \n",
      "4                0                                         Udemy   \n",
      "\n",
      "       ('P35', 'other')  ('P36', 'draw_participation')  \\\n",
      "0                   NaN                            1.0   \n",
      "1  Data Science Academy                            0.0   \n",
      "2                   NaN                            1.0   \n",
      "3                   NaN                            1.0   \n",
      "4                   NaN                            1.0   \n",
      "\n",
      "   ('D1', 'living_macroregion')  ('D2', 'origin_macroregion')  \\\n",
      "0                Região Sudeste                           NaN   \n",
      "1                Região Sudeste                           NaN   \n",
      "2                Região Sudeste                           NaN   \n",
      "3                Região Sudeste                Região Sudeste   \n",
      "4                           NaN                           NaN   \n",
      "\n",
      "                    ('D3', 'anonymized_degree_area')  \\\n",
      "0  Computação / Engenharia de Software / Sistemas...   \n",
      "1  Computação / Engenharia de Software / Sistemas...   \n",
      "2                                 Outras Engenharias   \n",
      "3  Computação / Engenharia de Software / Sistemas...   \n",
      "4  Computação / Engenharia de Software / Sistemas...   \n",
      "\n",
      "   ('D4', 'anonymized_market_sector')  ('D5', 'anonymized_manager_level')  \\\n",
      "0                              Outras                                 NaN   \n",
      "1                            Educação                                 NaN   \n",
      "2              Indústria (Manufatura)                                 NaN   \n",
      "3      Tecnologia/Fábrica de Software                                 NaN   \n",
      "4                  Internet/Ecommerce             C-level (CDO, CIO, CTO)   \n",
      "\n",
      "              ('D6', 'anonymized_role')  \n",
      "0                                Outras  \n",
      "1        Data Analyst/Analista de Dados  \n",
      "2                                Outras  \n",
      "3  Business Intelligence/Analista de BI  \n",
      "4                                   NaN  \n",
      "\n",
      "[5 rows x 170 columns]\n"
     ]
    }
   ],
   "source": [
    "import pandas as pd\n",
    "\n",
    "df = pd.read_csv(r'C:\\Users\\joaoh\\Downloads\\datahackers\\datahackers-survey-2019-anonymous-responses.csv')\n",
    "print(df.head())\n"
   ]
  }
 ],
 "metadata": {
  "kernelspec": {
   "display_name": "Python 3",
   "language": "python",
   "name": "python3"
  },
  "language_info": {
   "codemirror_mode": {
    "name": "ipython",
    "version": 3
   },
   "file_extension": ".py",
   "mimetype": "text/x-python",
   "name": "python",
   "nbconvert_exporter": "python",
   "pygments_lexer": "ipython3",
   "version": "3.13.2"
  }
 },
 "nbformat": 4,
 "nbformat_minor": 5
}
